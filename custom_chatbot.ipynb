{
 "cells": [
  {
   "cell_type": "markdown",
   "id": "124e5672",
   "metadata": {},
   "source": [
    "# Custom Chatbot Project"
   ]
  },
  {
   "cell_type": "markdown",
   "id": "2a4a94b3",
   "metadata": {},
   "source": [
    "TODO: In this cell, write an explanation of which dataset you have chosen and why it is appropriate for this task\n",
    "\n",
    "### The chosen Dataset and why it is appropriate for the task\n",
    "\n",
    "For this project, we have chosen the data from the Wikipedia page about the **ICC T20 Cricket World Cup 2024**. This dataset is suitable for building a chatbot to answer questions related to this event because the GPT-3.5 Turbo model does not have training data on this recent event that took place in 2024. By using this dataset, we ensure that our chatbot can provide up-to-date and accurate information.\n",
    "\n",
    "To enhance the question-answering capability, we employ the Retrieval Augmented Generation (RAG) technique. This technique supplements the prompt with contextual information from the dataset, enabling the model to provide more accurate and relevant answers."
   ]
  },
  {
   "cell_type": "markdown",
   "id": "a63d4c5f",
   "metadata": {},
   "source": [
    "## Data Wrangling\n",
    "\n",
    "TODO: In the cells below, load your chosen dataset into a `pandas` dataframe with a column named `\"text\"`. This column should contain all of your text data, separated into at least 20 rows."
   ]
  },
  {
   "cell_type": "code",
   "execution_count": 1,
   "id": "c69b83a1",
   "metadata": {},
   "outputs": [],
   "source": [
    "# Importing libraries\n",
    "import requests\n",
    "import pandas as pd\n",
    "import openai\n",
    "from openai.embeddings_utils import get_embedding, distances_from_embeddings"
   ]
  },
  {
   "cell_type": "code",
   "execution_count": 2,
   "id": "0a595980",
   "metadata": {},
   "outputs": [],
   "source": [
    "# Environment (global) variables\n",
    "openai.api_key = \"YOUR API KEY\"\n",
    "\n",
    "# File paths\n",
    "DATA_FILEPATH = './wikipedia_paragraphs.csv'\n",
    "CSV_FILEPATH_WITH_EMBEDDINGS = './wikipedia_with_embeddings.csv'\n",
    "\n",
    "# OpenAI Models\n",
    "EMBEDDING_MODEL = 'text-embedding-3-small'\n",
    "COMPLETION_MODEL = 'gpt-3.5-turbo-instruct'\n",
    "\n",
    "# Batch size for processing\n",
    "BATCH_SIZE = 25"
   ]
  },
  {
   "cell_type": "code",
   "execution_count": 3,
   "id": "acb3a9fd",
   "metadata": {},
   "outputs": [],
   "source": [
    "def fetch_wikipedia_page(title: str, output_file: str = None):\n",
    "    \"\"\"\n",
    "    Fetches and cleans text content from a specified Wikipedia page and separates it into paragraphs.\n",
    "\n",
    "    Parameters:\n",
    "    title (str): The title of the Wikipedia page to fetch.\n",
    "    output_file (str, optional): The file path to save the DataFrame as a CSV. Defaults to None.\n",
    "\n",
    "    Returns:\n",
    "    pd.DataFrame: A DataFrame containing the paragraphs of the Wikipedia page.\n",
    "    \"\"\"\n",
    "    # Wikipedia API endpoint\n",
    "    url = \"https://en.wikipedia.org/w/api.php\"\n",
    "\n",
    "    # Parameters for the API request\n",
    "    params = {\n",
    "        \"action\": \"query\",\n",
    "        \"format\": \"json\",\n",
    "        \"prop\": \"extracts\",\n",
    "        \"explaintext\": True,\n",
    "        \"titles\": title\n",
    "    }\n",
    "\n",
    "    # Send the request to the Wikipedia API\n",
    "    response = requests.get(url, params=params)\n",
    "    data = response.json()\n",
    "\n",
    "    # Extract the page content\n",
    "    page = next(iter(data['query']['pages'].values()))\n",
    "    text = page['extract']\n",
    "\n",
    "    # Split the text into paragraphs\n",
    "    paragraphs = text.split('\\n')\n",
    "\n",
    "    # Clean the paragraphs (remove extra whitespace)\n",
    "    cleaned_paragraphs = [' '.join(para.split()) for para in paragraphs if para.strip()]\n",
    "\n",
    "    # Create a DataFrame with one column named 'text'\n",
    "    df = pd.DataFrame({'text': cleaned_paragraphs})\n",
    "\n",
    "    # Clean up dataframe to remove empty lines and headings\n",
    "    df = df[((df[\"text\"].str.len() > 0) & (~df[\"text\"].str.startswith(\"==\")))].reset_index(drop=True)\n",
    "\n",
    "    # Save the DataFrame to a CSV file if output_file is provided\n",
    "    if output_file:\n",
    "        df.to_csv(output_file, index=False)\n",
    "\n",
    "    return df"
   ]
  },
  {
   "cell_type": "code",
   "execution_count": 4,
   "id": "737ae01d",
   "metadata": {},
   "outputs": [
    {
     "name": "stdout",
     "output_type": "stream",
     "text": [
      "                                                 text\n",
      "0   The 2024 ICC Men's T20 World Cup was the ninth...\n",
      "1   The tournament field expanded from 16 to 20 te...\n",
      "2   England were the defending champions and were ...\n",
      "3   The ICC Men's T20 World Cup is a professional ...\n",
      "4   In November 2021, the ICC announced that the 2...\n",
      "..                                                ...\n",
      "57  On 30 June 2024, the ICC announced its team of...\n",
      "58  In India, Disney Star handled host broadcastin...\n",
      "59  In an effort to help promote the sport to U.S....\n",
      "60                                   Official website\n",
      "61                    Tournament home at ESPNcricinfo\n",
      "\n",
      "[62 rows x 1 columns]\n"
     ]
    }
   ],
   "source": [
    "# Extracting the data\n",
    "df = fetch_wikipedia_page(\"2024_ICC_Men's_T20_World_Cup\", DATA_FILEPATH)\n",
    "print(df)"
   ]
  },
  {
   "cell_type": "markdown",
   "id": "0fcdab78",
   "metadata": {},
   "source": [
    "## Creating embeddings index"
   ]
  },
  {
   "cell_type": "code",
   "execution_count": 5,
   "id": "abfaf45b",
   "metadata": {},
   "outputs": [
    {
     "data": {
      "text/html": [
       "<div>\n",
       "<style scoped>\n",
       "    .dataframe tbody tr th:only-of-type {\n",
       "        vertical-align: middle;\n",
       "    }\n",
       "\n",
       "    .dataframe tbody tr th {\n",
       "        vertical-align: top;\n",
       "    }\n",
       "\n",
       "    .dataframe thead th {\n",
       "        text-align: right;\n",
       "    }\n",
       "</style>\n",
       "<table border=\"1\" class=\"dataframe\">\n",
       "  <thead>\n",
       "    <tr style=\"text-align: right;\">\n",
       "      <th></th>\n",
       "      <th>text</th>\n",
       "      <th>embeddings</th>\n",
       "    </tr>\n",
       "  </thead>\n",
       "  <tbody>\n",
       "    <tr>\n",
       "      <th>0</th>\n",
       "      <td>The 2024 ICC Men's T20 World Cup was the ninth...</td>\n",
       "      <td>[-0.02775840274989605, -0.005271230358630419, ...</td>\n",
       "    </tr>\n",
       "    <tr>\n",
       "      <th>1</th>\n",
       "      <td>The tournament field expanded from 16 to 20 te...</td>\n",
       "      <td>[-0.01747475564479828, 0.015204494819045067, 0...</td>\n",
       "    </tr>\n",
       "    <tr>\n",
       "      <th>2</th>\n",
       "      <td>England were the defending champions and were ...</td>\n",
       "      <td>[0.02288796566426754, -0.010841187089681625, 0...</td>\n",
       "    </tr>\n",
       "    <tr>\n",
       "      <th>3</th>\n",
       "      <td>The ICC Men's T20 World Cup is a professional ...</td>\n",
       "      <td>[-0.013975653797388077, 0.011683300137519836, ...</td>\n",
       "    </tr>\n",
       "    <tr>\n",
       "      <th>4</th>\n",
       "      <td>In November 2021, the ICC announced that the 2...</td>\n",
       "      <td>[-0.02671620063483715, -0.02153180167078972, 0...</td>\n",
       "    </tr>\n",
       "  </tbody>\n",
       "</table>\n",
       "</div>"
      ],
      "text/plain": [
       "                                                text  \\\n",
       "0  The 2024 ICC Men's T20 World Cup was the ninth...   \n",
       "1  The tournament field expanded from 16 to 20 te...   \n",
       "2  England were the defending champions and were ...   \n",
       "3  The ICC Men's T20 World Cup is a professional ...   \n",
       "4  In November 2021, the ICC announced that the 2...   \n",
       "\n",
       "                                          embeddings  \n",
       "0  [-0.02775840274989605, -0.005271230358630419, ...  \n",
       "1  [-0.01747475564479828, 0.015204494819045067, 0...  \n",
       "2  [0.02288796566426754, -0.010841187089681625, 0...  \n",
       "3  [-0.013975653797388077, 0.011683300137519836, ...  \n",
       "4  [-0.02671620063483715, -0.02153180167078972, 0...  "
      ]
     },
     "metadata": {},
     "output_type": "display_data"
    }
   ],
   "source": [
    "\n",
    "def generate_embeddings_from_df(df, embedding_model_name, batch_size=25):\n",
    "    \"\"\"\n",
    "    Generates embeddings for texts in a DataFrame using the specified OpenAI embedding model.\n",
    "\n",
    "    Parameters:\n",
    "    df (pd.DataFrame): DataFrame containing the texts.\n",
    "    embedding_model_name (str): The name of the OpenAI embedding model to use.\n",
    "    batch_size (int): The number of texts to process in each batch. Default:25\n",
    "\n",
    "    Returns:\n",
    "    pd.DataFrame: DataFrame with the original texts and their corresponding embeddings.\n",
    "    \"\"\"\n",
    "    embeddings = []\n",
    "    for i in range(0, len(df), batch_size):\n",
    "        # Send text data to OpenAI model to get embeddings\n",
    "        response = openai.Embedding.create(\n",
    "            input=df.iloc[i:i+batch_size][\"text\"].tolist(),\n",
    "            engine=embedding_model_name\n",
    "        )\n",
    "\n",
    "        # Add embeddings to list\n",
    "        embeddings.extend([data[\"embedding\"] for data in response[\"data\"]])\n",
    "\n",
    "    # Add embeddings list to dataframe\n",
    "    df[\"embeddings\"] = embeddings\n",
    "    return df\n",
    "\n",
    "# Creating embeddings\n",
    "df = pd.read_csv(DATA_FILEPATH)\n",
    "\n",
    "df_with_embeddings = generate_embeddings_from_df(df, EMBEDDING_MODEL, BATCH_SIZE)\n",
    "display(df_with_embeddings[['text', 'embeddings']].head())\n"
   ]
  },
  {
   "cell_type": "code",
   "execution_count": 6,
   "id": "8850050d",
   "metadata": {},
   "outputs": [],
   "source": [
    "# Saving embeddings\n",
    "df_with_embeddings.to_csv(CSV_FILEPATH_WITH_EMBEDDINGS)"
   ]
  },
  {
   "cell_type": "code",
   "execution_count": 42,
   "id": "84713df4",
   "metadata": {},
   "outputs": [],
   "source": [
    "# Loading the embeddings (if required)\n",
    "df_with_embeddings = pd.read_csv(CSV_FILEPATH_WITH_EMBEDDINGS)\n",
    "# df_with_embeddings.head()"
   ]
  },
  {
   "cell_type": "markdown",
   "id": "ae769871",
   "metadata": {},
   "source": [
    "## Custom Query Completion\n",
    "\n",
    "TODO: In the cells below, compose a custom query using your chosen dataset and retrieve results from an OpenAI `Completion` model. You may copy and paste any useful code from the course materials."
   ]
  },
  {
   "cell_type": "code",
   "execution_count": null,
   "id": "582f0656",
   "metadata": {},
   "outputs": [],
   "source": []
  },
  {
   "cell_type": "code",
   "execution_count": 43,
   "id": "8b6e1f75",
   "metadata": {},
   "outputs": [],
   "source": [
    "def create_custom_query(query, context):\n",
    "    \"\"\"\n",
    "    Function that takes in the query and the context together to create a custom prompt\n",
    "    Parameters:\n",
    "    query (str): The question\n",
    "    context : The top n pieces of text most relevant to the question\n",
    "    Returns:\n",
    "    A string that is actually a custom instruction prompt using the query and context\n",
    "    \"\"\"\n",
    "    \n",
    "    return f\"\"\"\n",
    "            Answer the question based on the context below. If the question cannot be answered from the context, simply respond with \"I don't know.\" and nothing else. The context has some facts about the 2024 ICC T20 Cricket World Cup.\n",
    "            Context:\n",
    "            {context}\n",
    "            Question: {query}\n",
    "            Answer:\"\"\"\n",
    "\n",
    "\n",
    "def find_context(query, data_df, n=5):\n",
    "    \"\"\"\n",
    "    Function that takes in a question string and a dataframe containing rows of text\n",
    "    and associated embeddings, and returns the top n rows of text from that dataframe\n",
    "    sorted from least to most relevant for that question.\n",
    "    Parameters:\n",
    "    query (str): The question\n",
    "    data_df (pd.DataFrame): The dataframe containing text and respective embeddings\n",
    "    n (int): The number of top results required\n",
    "    Returns:\n",
    "    A string of text blocks separated by newline\n",
    "    \"\"\"\n",
    "\n",
    "    # Get embeddings for the question text\n",
    "    query_embeddings = get_embedding(query, engine=EMBEDDING_MODEL)\n",
    "\n",
    "    # Make a copy of the dataframe and add a \"distances\" column containing\n",
    "    # the cosine distances between each row's embeddings and the\n",
    "    # embeddings of the question\n",
    "    df_copy = data_df.copy()\n",
    "    df_copy[\"distances\"] = distances_from_embeddings(\n",
    "        query_embeddings,\n",
    "        df_copy[\"embeddings\"].values,\n",
    "        distance_metric=\"cosine\"\n",
    "    )\n",
    "\n",
    "    # Sort the copied dataframe by the distances and return it\n",
    "    # (shorter distance = more relevant so we sort in ascending order)\n",
    "    df_copy.sort_values(\"distances\", ascending=True, inplace=True)\n",
    "    return '\\n'.join(df_copy.iloc[:n][\"text\"].tolist())\n",
    "\n"
   ]
  },
  {
   "cell_type": "code",
   "execution_count": 44,
   "id": "13f2dcd7",
   "metadata": {},
   "outputs": [],
   "source": [
    "def answer_question(prompt):\n",
    "    \"\"\"\n",
    "    Function that sends a prompt/question to OpenAI model and returns the response/answer\n",
    "    Parameters:\n",
    "    prompt (str): The text of the prompt\n",
    "    Returns:\n",
    "    A string, which is the response from the model\n",
    "    \"\"\"\n",
    "    \n",
    "    resp = openai.Completion.create(model=COMPLETION_MODEL,\n",
    "                                    prompt=prompt,\n",
    "                                    max_tokens=100)\n",
    "    \n",
    "    return resp.choices[0].text"
   ]
  },
  {
   "cell_type": "code",
   "execution_count": 34,
   "id": "c403f543",
   "metadata": {
    "scrolled": true
   },
   "outputs": [
    {
     "name": "stdout",
     "output_type": "stream",
     "text": [
      "The two hosts West Indies and the United States along with the top eight teams from the 2022 tournament qualified automatically for the tournament. The remaining two automatic qualification places were taken by the best-ranked teams in the ICC Men's T20I Team Rankings which had not already qualified, as of 14 November 2022. The eight remaining places were filled viathe ICC's regional qualifiers, consisting of two teams from Africa, Asia, and Europe and one team each from the Americas and the East Asia-Pacific groups. In May 2022, the ICC confirmed the sub-regional qualification pathways for Europe, East Asia-Pacific, and Africa.\n",
      "On 23 June 2024, England became the first team to qualify for the semi-finals after defeating United States at Kensington Oval. Later on the same day, South Africa became the second team to qualify for the semi-final after defeating West Indies at Sir Vivian Richards Stadium. On 24 June 2024, India became the third team to qualify for the semi-finals after defeating Australia at Daren Sammy Cricket Ground. Later on the same day, Afghanistan became the last team to qualify for the semi-finals after defeating Bangladesh at Arnos Vale Stadium.\n",
      "The tournament field expanded from 16 to 20 teams, including the two hosts, the top eight teams from the 2022 edition, the best placed two teams in the ICC Men's T20I Team Rankings not already qualified, and eight other teams determined by regional qualifiers. Canada and Uganda qualified for the men's T20 World Cup for the first time, while the United States participated for the first time by virtue of being co-hosts.\n",
      "The 20 qualifying teams were divided into four groups of five teams; all the five teams in a group played with all the others – for a total of ten matches – and the top two teams in each group advanced to the Super 8 stage. The advanced 8 teams were divided into two groups of four teams each based on pre-tournament seedings; all the advanced teams in an advanced group played with all the others in that group – for a total of six matches – and the top two teams in each advanced group advanced to a four-team semi-final or knockout stage. Prior to the tournament, the ICC announced the eight seeded teams for the Super 8 stage based on T20I rankings. On advancing from the group stage, they were placed in pre-determined positions in the Super 8 stage, irrespective of their position in the group stage. If an unseeded team qualified at the expense of a seeded team, it took the position of the corresponding seeded team that failed to qualify from the group.\n",
      "In July 2023, Ireland and Scotland qualified from the Europe Qualifier, followed by Papua New Guinea from the East Asia-Pacific. Canada secured its qualification in October 2023 after winning the Americas Qualifier. The following month, Nepal and Oman qualified after reaching the final of the Asia Qualifier in Nepal. Namibia and Uganda became the final two teams to qualify after ensuring a top-two finish in the Africa Qualifier with Zimbabwe becoming the only Test-playing country that failed to qualify for the World Cup. Canada and Uganda qualified for the men's T20 World Cup for the first time, while the United States also participated for the first time by virtue of being co-host.\n"
     ]
    }
   ],
   "source": [
    "# Testing with a sample question\n",
    "question = \"Which 4 teams qualified for the semifinals in the T20 World Cup 2024?\"\n",
    "cont = find_context(question, df_with_embeddings)\n",
    "print(cont)"
   ]
  },
  {
   "cell_type": "code",
   "execution_count": null,
   "id": "74280b92",
   "metadata": {
    "scrolled": true
   },
   "outputs": [],
   "source": []
  },
  {
   "cell_type": "markdown",
   "id": "1783f146",
   "metadata": {},
   "source": [
    "## Custom Performance Demonstration\n",
    "\n",
    "TODO: In the cells below, demonstrate the performance of your custom query using at least 2 questions. For each question, show the answer from a basic `Completion` model query as well as the answer from your custom query."
   ]
  },
  {
   "cell_type": "markdown",
   "id": "4f11fdc0",
   "metadata": {},
   "source": [
    "### Question 1"
   ]
  },
  {
   "cell_type": "code",
   "execution_count": 16,
   "id": "4901c850",
   "metadata": {},
   "outputs": [],
   "source": [
    "question1 = \"Who was the player of the tournament in ICC T20 World Cup 2024?\""
   ]
  },
  {
   "cell_type": "code",
   "execution_count": 20,
   "id": "b63088cd",
   "metadata": {},
   "outputs": [
    {
     "data": {
      "text/plain": [
       "' \\n\\nAs of 2021, the ICC T20 World Cup 2024 has not taken place and therefore there is no player who has been awarded the Player of the Tournament title. The next ICC T20 World Cup is scheduled to take place in 2022 in Australia.'"
      ]
     },
     "metadata": {},
     "output_type": "display_data"
    }
   ],
   "source": [
    "# Answer without context\n",
    "display(answer_question(question1))"
   ]
  },
  {
   "cell_type": "code",
   "execution_count": 19,
   "id": "bd7a093b",
   "metadata": {},
   "outputs": [
    {
     "data": {
      "text/plain": [
       "' Jasprit Bumrah'"
      ]
     },
     "metadata": {},
     "output_type": "display_data"
    }
   ],
   "source": [
    "# Answer with context (custom prompt)\n",
    "context1 = find_context(question1, df_with_embeddings)\n",
    "display(answer_question(create_custom_query(question1, context1)))"
   ]
  },
  {
   "cell_type": "markdown",
   "id": "6e86e37c",
   "metadata": {},
   "source": [
    "### Question 2"
   ]
  },
  {
   "cell_type": "code",
   "execution_count": 21,
   "id": "6f646989",
   "metadata": {},
   "outputs": [],
   "source": [
    "question2 = \"Which team did India defeat in the semi-finals in the ICC T20 World Cup 2024?\""
   ]
  },
  {
   "cell_type": "code",
   "execution_count": 22,
   "id": "11c07a54",
   "metadata": {},
   "outputs": [
    {
     "data": {
      "text/plain": [
       "' \\n\\nIt is not possible to accurately predict which team India will defeat in the semi-finals of the ICC T20 World Cup in 2024 as the tournament schedule and participating teams have not been announced yet. \\n'"
      ]
     },
     "metadata": {},
     "output_type": "display_data"
    }
   ],
   "source": [
    "# Answer without context\n",
    "display(answer_question(question2))"
   ]
  },
  {
   "cell_type": "code",
   "execution_count": 23,
   "id": "2c196c98",
   "metadata": {},
   "outputs": [
    {
     "data": {
      "text/plain": [
       "' England'"
      ]
     },
     "metadata": {},
     "output_type": "display_data"
    }
   ],
   "source": [
    "# Answer with context (custom prompt)\n",
    "context2 = find_context(question2, df_with_embeddings)\n",
    "display(answer_question(create_custom_query(question2, context2)))"
   ]
  },
  {
   "cell_type": "markdown",
   "id": "1029b36f",
   "metadata": {},
   "source": [
    "### Question 3"
   ]
  },
  {
   "cell_type": "code",
   "execution_count": 38,
   "id": "7b2482b0",
   "metadata": {},
   "outputs": [],
   "source": [
    "question3 = \"Which was one of the biggest upsets in the ICC T20 World Cup 2024?\""
   ]
  },
  {
   "cell_type": "code",
   "execution_count": 39,
   "id": "ab4cd353",
   "metadata": {},
   "outputs": [
    {
     "data": {
      "text/plain": [
       "\"\\n\\nOne of the biggest upsets in the ICC T20 World Cup 2024 was when underdog team Papua New Guinea defeated heavy favorites India by 7 wickets in the group stage match. This victory was considered a major upset as India was the top-ranked team in the world and had been dominant in T20 cricket for years. Papua New Guinea's win shocked the cricket world and showed that any team can be a threat in the T20 format. \""
      ]
     },
     "metadata": {},
     "output_type": "display_data"
    }
   ],
   "source": [
    "# Answer without context (wrong answer)\n",
    "display(answer_question(question3))"
   ]
  },
  {
   "cell_type": "code",
   "execution_count": 40,
   "id": "c12d1f82",
   "metadata": {},
   "outputs": [
    {
     "data": {
      "text/plain": [
       "' USA beating Pakistan in the Super Over thanks to brilliant bowling from Saurabh Netravalkar.'"
      ]
     },
     "metadata": {},
     "output_type": "display_data"
    }
   ],
   "source": [
    "# Answer with context (custom prompt)\n",
    "context3 = find_context(question3, df_with_embeddings)\n",
    "display(answer_question(create_custom_query(question3, context3)))"
   ]
  },
  {
   "cell_type": "code",
   "execution_count": null,
   "id": "6b63d321",
   "metadata": {},
   "outputs": [],
   "source": []
  }
 ],
 "metadata": {
  "kernelspec": {
   "display_name": "Python 3 (ipykernel)",
   "language": "python",
   "name": "python3"
  },
  "language_info": {
   "codemirror_mode": {
    "name": "ipython",
    "version": 3
   },
   "file_extension": ".py",
   "mimetype": "text/x-python",
   "name": "python",
   "nbconvert_exporter": "python",
   "pygments_lexer": "ipython3",
   "version": "3.9.18"
  }
 },
 "nbformat": 4,
 "nbformat_minor": 5
}
